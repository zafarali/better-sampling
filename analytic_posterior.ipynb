{
 "cells": [
  {
   "cell_type": "code",
   "execution_count": 1,
   "metadata": {},
   "outputs": [
    {
     "name": "stdout",
     "output_type": "stream",
     "text": [
      "Populating the interactive namespace from numpy and matplotlib\n"
     ]
    }
   ],
   "source": [
    "%pylab inline\n",
    "import matplotlib.pyplot as plt\n",
    "import numpy as np\n",
    "import seaborn as sns\n",
    "from Samplers import ISSampler, ABCSampler, MCSampler\n",
    "from StochasticProcess import RandomWalk\n",
    "from proposal_distributions import MinimalProposal, SimonsProposal\n",
    "from prior_distributions import DiscreteUniform\n",
    "from plotting import plot_mean_trajectories, plot_trajectory_time_evolution"
   ]
  },
  {
   "cell_type": "code",
   "execution_count": 2,
   "metadata": {},
   "outputs": [
    {
     "name": "stdout",
     "output_type": "stream",
     "text": [
      "True Starting Position is:[1]\n"
     ]
    }
   ],
   "source": [
    "MC_SAMPLES = 2000\n",
    "POSSIBLE_STEPS = [[-1], [+1]]\n",
    "STEP_PROBS = np.ones(2)/2\n",
    "DIMENSIONS = 1\n",
    "rw = RandomWalk(DIMENSIONS, STEP_PROBS, POSSIBLE_STEPS, n_agents=1, T=100, prior_distribution=DiscreteUniform(DIMENSIONS, -2, 4))\n",
    "rw.reset()\n",
    "print('True Starting Position is:{}'.format(rw.x0))"
   ]
  },
  {
   "cell_type": "code",
   "execution_count": 3,
   "metadata": {},
   "outputs": [
    {
     "name": "stderr",
     "output_type": "stream",
     "text": [
      "/Users/zaf/development/better-sampling/proposal_distributions.py:86: RuntimeWarning: invalid value encountered in true_divide\n",
      "  sign = w / np.abs(w)\n",
      "/Users/zaf/development/better-sampling/proposal_distributions.py:89: RuntimeWarning: divide by zero encountered in true_divide\n",
      "  bias = (sign * self.push_toward - w) * 1. / time_left\n",
      "/Users/zaf/development/better-sampling/StochasticProcess.py:135: RuntimeWarning: divide by zero encountered in log\n",
      "  step_log_probs = np.log(self.prior.pdf(self.x_agent))\n"
     ]
    },
    {
     "data": {
      "text/plain": [
       "(0.15535258719859008, 0.10841179703256697)"
      ]
     },
     "execution_count": 3,
     "metadata": {},
     "output_type": "execute_result"
    }
   ],
   "source": [
    "iss = ISSampler(SimonsProposal)\n",
    "iss_results = iss.solve(rw, MC_SAMPLES)\n",
    "iss_results.expectation(True), iss_results.variance(True)"
   ]
  },
  {
   "cell_type": "code",
   "execution_count": 4,
   "metadata": {},
   "outputs": [
    {
     "data": {
      "text/plain": [
       "<matplotlib.axes._subplots.AxesSubplot at 0x112093cc0>"
      ]
     },
     "execution_count": 4,
     "metadata": {},
     "output_type": "execute_result"
    },
    {
     "data": {
      "image/png": "[encoded data removed]",
      "text/plain": [
       "<matplotlib.figure.Figure at 0x105092b70>"
      ]
     },
     "metadata": {},
     "output_type": "display_data"
    }
   ],
   "source": [
    "iss_results.plot_distribution()"
   ]
  },
  {
   "cell_type": "code",
   "execution_count": 5,
   "metadata": {
    "scrolled": true
   },
   "outputs": [
    {
     "data": {
      "text/plain": [
       "(-0.4954128440366973, 1.2408046460735631)"
      ]
     },
     "execution_count": 5,
     "metadata": {},
     "output_type": "execute_result"
    }
   ],
   "source": [
    "abc = ABCSampler(2)\n",
    "abc_results = abc.solve(rw, MC_SAMPLES)\n",
    "abc_results.expectation(), abc_results.variance()"
   ]
  },
  {
   "cell_type": "code",
   "execution_count": 6,
   "metadata": {},
   "outputs": [
    {
     "data": {
      "text/plain": [
       "<matplotlib.axes._subplots.AxesSubplot at 0x11b4011d0>"
      ]
     },
     "execution_count": 6,
     "metadata": {},
     "output_type": "execute_result"
    },
    {
     "data": {
      "image/png": "[encoded data removed]",
      "text/plain": [
       "<matplotlib.figure.Figure at 0x10e2f9940>"
      ]
     },
     "metadata": {},
     "output_type": "display_data"
    }
   ],
   "source": [
    "abc_results.plot_distribution()"
   ]
  },
  {
   "cell_type": "code",
   "execution_count": 14,
   "metadata": {},
   "outputs": [
    {
     "name": "stderr",
     "output_type": "stream",
     "text": [
      "/Users/zaf/development/better-sampling/StochasticProcess.py:135: RuntimeWarning: divide by zero encountered in log\n",
      "  step_log_probs = np.log(self.prior.pdf(self.x_agent))\n"
     ]
    },
    {
     "data": {
      "text/plain": [
       "(0.11899313501144165, 2.658609512538684)"
      ]
     },
     "execution_count": 14,
     "metadata": {},
     "output_type": "execute_result"
    }
   ],
   "source": [
    "mcs = MCSampler()\n",
    "mc_results = mcs.solve(rw, MC_SAMPLES)\n",
    "mc_results.expectation(), mc_results.variance()"
   ]
  },
  {
   "cell_type": "markdown",
   "metadata": {},
   "source": [
    "Consider that $X_0\\sim \\text{DiscreteUniform}(-c, c)$. The PMF of this distribution is given by \n",
    "$$p_{X_0}(x) = \\{\\frac{1}{2c} ~~ x \\in [-c, c]; 0~~\\text{otherwise}\\}$$\n",
    "\n",
    "Let $X_t\\sim \\text{Bern}(p)$. Since we are taking steps of size +1 or -1, let us define $S_t=2X_t - 1$ the distribution of $P_{S_t}(S_t=s) = P_{S_t}(2X_t-1 = s) = P_{X_t}(X_t = \\frac{s+1}{2}) = \\{ p ~~\\text{if} \\frac{s+1}{2}=1 ; 1-p ~~\\text{if}\\frac{s+1}{2}=0\\}$"
   ]
  },
  {
   "cell_type": "markdown",
   "metadata": {},
   "source": [
    "Possibly more importantly, the total number of steps taken is defined to be $S_T = \\sum_{i=1}^T S_t$. What is this distribution?\n",
    "\n",
    "$$P(S_T=s) = P(\\sum_{i=1}^TS_t=s)= P\\big(\\sum_{i=1}^T(2X_t-1)=s\\big) = P\\big(\\sum_{i=1}^TX_t=\\frac{s+T}{2}\\big)$$"
   ]
  },
  {
   "cell_type": "markdown",
   "metadata": {},
   "source": [
    "We know how $\\sum_{i=1}^T X_t$ is distributed! It is Bernoulli. Therefore:\n",
    "\n",
    "$$P(S_T=s)=P\\big(\\sum_{i=1}^TX_t=\\frac{s+T}{2}\\big)={T\\choose\\frac{s+T}{2}}p^{\\frac{s+T}{2}}(1-p)^{T-\\frac{s+T}{2}} ~\\text{if}~0 \\leq \\frac{s+T}{2} \\leq T$$"
   ]
  },
  {
   "cell_type": "markdown",
   "metadata": {},
   "source": [
    "Let use define the total distance moved as $D=X_0 + S_T$. What is the posterior $P(X_0~|~D)$? Let us employ Bayes Rule:\n",
    "\n",
    "$$P(X_0~|~D) = \\frac{P(D~|~X_0)P(X_0)}{P(D)}$$"
   ]
  },
  {
   "cell_type": "markdown",
   "metadata": {},
   "source": [
    "For now let us just compute the terms at the top. We already know $P(X_0)$, so let's focus on $P(D~|~X_0)$:\n",
    "\n",
    "$$P(D=d~|~X_0=x)\\propto P(X_0 + S_T = d~|~X_0=x) = P(S_T = d - x~|~X_0=x)$$\n",
    "$$P(S_T = d - x~|~X_0=x) = P(S_T = d-x)$$"
   ]
  },
  {
   "cell_type": "markdown",
   "metadata": {},
   "source": [
    "Therefore our posterior is:\n",
    "\n",
    "$$P_{D|X_0}(d,x) \\propto P_{S_T}(d-x)P_{X_0}(x)$$\n",
    "$$P_{D|X_0}(d,x) \\propto \\frac{1}{2c}{T\\choose\\frac{d-x+T}{2}}p^{\\frac{d-x+T}{2}}(1-p)^{T-\\frac{d-x+T}{2}}~\\text{if}~x\\in[-c, c]~ 0 \\leq \\frac{d-x+T}{2} \\leq T$$"
   ]
  },
  {
   "cell_type": "code",
   "execution_count": 7,
   "metadata": {
    "collapsed": true
   },
   "outputs": [],
   "source": [
    "from scipy.misc import comb\n",
    "c = 2\n",
    "p = 0.5\n",
    "T = 100\n",
    "ending_position = rw.xT[0]\n",
    "def pdf(d,x):\n",
    "    term = int(0.5*(d-x+T))\n",
    "#     print(term)\n",
    "    if not(term <= T and term >= 0 and x <= c and x >= -c):\n",
    "#         print('out of range')\n",
    "        return 0\n",
    "    else:\n",
    "        return (1/2*c)*comb(T, term)*p**(term)*(1-p)**(T-term)"
   ]
  },
  {
   "cell_type": "code",
   "execution_count": 8,
   "metadata": {},
   "outputs": [
    {
     "data": {
      "text/plain": [
       "Text(0.5,1,'Posterior Distribution')"
      ]
     },
     "execution_count": 8,
     "metadata": {},
     "output_type": "execute_result"
    },
    {
     "data": {
      "image/png": "[encoded data removed]",
      "text/plain": [
       "<matplotlib.figure.Figure at 0x119211390>"
      ]
     },
     "metadata": {},
     "output_type": "display_data"
    }
   ],
   "source": [
    "sns.set_style('white')\n",
    "plt.scatter(np.arange(-5, 5), [pdf(rw.xT, x) for x in np.arange(-5, 5)])\n",
    "plt.xlabel(r\"$x_0$\")\n",
    "plt.ylabel('Unnormalized Probability')\n",
    "plt.title('Posterior Distribution')"
   ]
  },
  {
   "cell_type": "code",
   "execution_count": null,
   "metadata": {
    "collapsed": true
   },
   "outputs": [],
   "source": []
  }
 ],
 "metadata": {
  "kernelspec": {
   "display_name": "Python 3",
   "language": "python",
   "name": "python3"
  },
  "language_info": {
   "codemirror_mode": {
    "name": "ipython",
    "version": 3
   },
   "file_extension": ".py",
   "mimetype": "text/x-python",
   "name": "python",
   "nbconvert_exporter": "python",
   "pygments_lexer": "ipython3",
   "version": "3.6.1"
  }
 },
 "nbformat": 4,
 "nbformat_minor": 2
}
