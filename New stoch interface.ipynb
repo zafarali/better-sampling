{
 "cells": [
  {
   "cell_type": "code",
   "execution_count": 94,
   "metadata": {},
   "outputs": [
    {
     "name": "stdout",
     "output_type": "stream",
     "text": [
      "Populating the interactive namespace from numpy and matplotlib\n"
     ]
    }
   ],
   "source": [
    "import gym\n",
    "from gym import spaces\n",
    "import numpy as np\n",
    "%pylab inline"
   ]
  },
  {
   "cell_type": "code",
   "execution_count": 95,
   "metadata": {
    "collapsed": true
   },
   "outputs": [],
   "source": [
    "class StochasticProcess(gym.Env):\n",
    "    def __init__(self, seed, T):\n",
    "        super().__init__()\n",
    "        self.rng = np.random.RandomState(seed)\n",
    "        self.T = T\n",
    "\n",
    "    @property\n",
    "    def state_space(self):\n",
    "        self._state_space\n",
    "\n",
    "    @property\n",
    "    def action_space(self):\n",
    "        self._action_space\n",
    "\n",
    "    def seed(self, seed):\n",
    "        self.rng = np.random.RandomState(seed)\n",
    "        \n",
    "    def transition_prob(self, state_t, state_tp1):\n",
    "        \"\"\"\n",
    "        Returns the probability of transitioning from \n",
    "        state_t to state_tp1 in the stochastic process\n",
    "        \"\"\"\n",
    "        raise NotImplementedError\n",
    "    \n",
    "    def reset(self):\n",
    "        pass\n",
    "    \n",
    "    def reset_task(self):\n",
    "        self.simulate(self.T)\n",
    "        \n",
    "    def simulate(self, T):\n",
    "        raise NotImplementedError"
   ]
  },
  {
   "cell_type": "code",
   "execution_count": 142,
   "metadata": {},
   "outputs": [
    {
     "data": {
      "text/plain": [
       "array([ 0.,  0.,  0.,  0.,  1.,  0.,  0.,  0.,  0.,  0.,  0.,  0.,  0.,\n",
       "        0.,  0.,  0.,  0.,  0.,  0.,  0.,  0.,  0.,  0.,  0.,  0.,  0.,\n",
       "        0.,  0.,  0.,  0.,  0.,  0.,  0.,  0.,  0.,  0.,  0.,  0.,  0.,\n",
       "        0.,  0.,  0.,  0.,  0.,  0.,  0.,  0.,  0.,  0.,  0.,  0.,  0.,\n",
       "        0.,  0.,  0.,  0.,  0.,  0.,  0.,  0.,  0.,  0.,  0.,  0.,  0.,\n",
       "        0.,  0.,  0.,  0.,  0.,  0.,  0.,  0.,  0.,  0.,  0.,  0.,  0.,\n",
       "        0.,  0.,  0.,  0.,  0.,  0.,  0.,  0.,  0.,  0.,  0.,  0.,  0.,\n",
       "        0.,  0.,  0.,  0.,  0.,  0.,  0.,  0.,  0.])"
      ]
     },
     "execution_count": 142,
     "metadata": {},
     "output_type": "execute_result"
    }
   ],
   "source": []
  },
  {
   "cell_type": "code",
   "execution_count": 156,
   "metadata": {},
   "outputs": [],
   "source": [
    "class RandomWalk(StochasticProcess):\n",
    "    def __init__(self,\n",
    "                 dimensions,\n",
    "                 step_probs,\n",
    "                 step_sizes,\n",
    "                 dt=1,\n",
    "                 seed=10,\n",
    "                 T=100,\n",
    "                 n_agents=1):\n",
    "        \"\"\"\n",
    "        :param dimensions: the number of dimensions the problem has\n",
    "        :param step_probs: list containing 2*dimensions + 1\n",
    "        :param step_sizes: a list containing 2*dimensions+1 elements of size dimensions\n",
    "                    indicating the step sizes for each move\n",
    "        \"\"\"\n",
    "        super().__init__(seed, T)\n",
    "        assert len(step_probs) == 2*dimensions+1, 'You must supply {} step_probs for dimensions'.format(2*dimensions+1, dimensions)\n",
    "        assert len(step_sizes) == 2*dimensions+1, 'You must supply {} step_sizes for dimensions'.format(2*dimensions+1, dimensions)\n",
    "        assert sum([len(step_size) == dimensions for step_size in step_sizes]), 'Each element of step_sizes must be of length {}'.format(dimensions)\n",
    "        assert sum(step_probs) == 1, 'Step probs must sum to 1.'\n",
    "        self.step_probs = step_probs\n",
    "        self.dimensions = dimensions\n",
    "        self.step_sizes = step_sizes\n",
    "        self.dt = dt\n",
    "        self.x0 = np.zeros(dimensions)\n",
    "        self.state = self.x0\n",
    "        self._state_space = dimensions\n",
    "        self._action_space = 2*dimensions + 1\n",
    "        self.n_agents = n_agents\n",
    "    \n",
    "    def simulate(self):\n",
    "        steps_idx = self.rng.multinomial(1, self.step_probs, self.T).argmax(axis=1)\n",
    "        steps_taken = np.take(self.step_sizes, steps_idx, axis=0)\n",
    "        self.true_trajectory = steps_taken.cumsum(axis=0)\n",
    "        self.xT = self.true_trajectory[-1]\n",
    "        self.global_time_step = 0\n",
    "        self.reset_agent_locations()\n",
    "        \n",
    "    def reset_agent_locations(self):\n",
    "        self.x_agent = np.repeat(self.xT.reshape(1, self.dimensions), self.n_agents, axis=0)\n",
    "\n",
    "    def reset(self):\n",
    "        self.global_time_step = 0\n",
    "        self.reset_agent_locations()\n",
    "        return self.x_agent\n",
    "    \n",
    "    def new_task(self):\n",
    "        self.simulate()\n",
    "\n",
    "    def step(self, actions):\n",
    "        if self.global_time_step == self.T:\n",
    "            raise TimeoutError('You have already reached the end of the episode. Use reset()')\n",
    "        steps_taken = np.take(self.step_sizes, actions.ravel(), axis=0)\n",
    "        step_log_probs = np.log(np.take(self.step_probs, actions.ravel(), axis=0).reshape(self.n_agents, -1))\n",
    "        self.x_agent = self.x_agent + steps_taken\n",
    "        self.global_time_step += 1\n",
    "        if self.global_time_step == self.T:\n",
    "            # this will count the agents who reached the correct entry in some state\n",
    "            corrects = (self.x_agent == self.x0).sum(axis=1)\n",
    "            # the final log prob is just the sum of getting to the correct\n",
    "            # position in this space.\n",
    "            step_log_probs = np.log(corrects * 1/self.dimensions + np.finfo('float').tiny)\n",
    "        return (self.x_agent, step_log_probs, self.global_time_step == self.T, {})"
   ]
  },
  {
   "cell_type": "code",
   "execution_count": 157,
   "metadata": {},
   "outputs": [],
   "source": [
    "rw = RandomWalk(2, [1/5, 1/5, 1/5, 1/5, 1/5], [[-1, 0], [0, 0], [1, 0], [0, 1], [-1, -1]], n_agents=1)"
   ]
  },
  {
   "cell_type": "code",
   "execution_count": 158,
   "metadata": {},
   "outputs": [
    {
     "data": {
      "text/plain": [
       "[<matplotlib.lines.Line2D at 0x113c0f860>,\n",
       " <matplotlib.lines.Line2D at 0x113c0fa20>]"
      ]
     },
     "execution_count": 158,
     "metadata": {},
     "output_type": "execute_result"
    },
    {
     "data": {
      "image/png": "[encoded data removed]",
      "text/plain": [
       "<matplotlib.figure.Figure at 0x113a6c668>"
      ]
     },
     "metadata": {},
     "output_type": "display_data"
    }
   ],
   "source": [
    "rw.simulate()\n",
    "plt.plot(rw.true_trajectory)"
   ]
  },
  {
   "cell_type": "code",
   "execution_count": 159,
   "metadata": {},
   "outputs": [],
   "source": [
    "rw.reset()\n",
    "rewards = []\n",
    "for i in range(100):\n",
    "    actions = np.random.randint(0, 5, size=1).reshape(-1, 1)\n",
    "    state, reward, done, _ = rw.step(actions)\n",
    "    rewards.append(reward)"
   ]
  },
  {
   "cell_type": "code",
   "execution_count": 162,
   "metadata": {},
   "outputs": [
    {
     "data": {
      "text/plain": [
       "array([[  -1.60943791],\n",
       "       [  -1.60943791],\n",
       "       [  -1.60943791],\n",
       "       [  -1.60943791],\n",
       "       [  -1.60943791],\n",
       "       [  -1.60943791],\n",
       "       [  -1.60943791],\n",
       "       [  -1.60943791],\n",
       "       [  -1.60943791],\n",
       "       [  -1.60943791],\n",
       "       [  -1.60943791],\n",
       "       [  -1.60943791],\n",
       "       [  -1.60943791],\n",
       "       [  -1.60943791],\n",
       "       [  -1.60943791],\n",
       "       [  -1.60943791],\n",
       "       [  -1.60943791],\n",
       "       [  -1.60943791],\n",
       "       [  -1.60943791],\n",
       "       [  -1.60943791],\n",
       "       [  -1.60943791],\n",
       "       [  -1.60943791],\n",
       "       [  -1.60943791],\n",
       "       [  -1.60943791],\n",
       "       [  -1.60943791],\n",
       "       [  -1.60943791],\n",
       "       [  -1.60943791],\n",
       "       [  -1.60943791],\n",
       "       [  -1.60943791],\n",
       "       [  -1.60943791],\n",
       "       [  -1.60943791],\n",
       "       [  -1.60943791],\n",
       "       [  -1.60943791],\n",
       "       [  -1.60943791],\n",
       "       [  -1.60943791],\n",
       "       [  -1.60943791],\n",
       "       [  -1.60943791],\n",
       "       [  -1.60943791],\n",
       "       [  -1.60943791],\n",
       "       [  -1.60943791],\n",
       "       [  -1.60943791],\n",
       "       [  -1.60943791],\n",
       "       [  -1.60943791],\n",
       "       [  -1.60943791],\n",
       "       [  -1.60943791],\n",
       "       [  -1.60943791],\n",
       "       [  -1.60943791],\n",
       "       [  -1.60943791],\n",
       "       [  -1.60943791],\n",
       "       [  -1.60943791],\n",
       "       [  -1.60943791],\n",
       "       [  -1.60943791],\n",
       "       [  -1.60943791],\n",
       "       [  -1.60943791],\n",
       "       [  -1.60943791],\n",
       "       [  -1.60943791],\n",
       "       [  -1.60943791],\n",
       "       [  -1.60943791],\n",
       "       [  -1.60943791],\n",
       "       [  -1.60943791],\n",
       "       [  -1.60943791],\n",
       "       [  -1.60943791],\n",
       "       [  -1.60943791],\n",
       "       [  -1.60943791],\n",
       "       [  -1.60943791],\n",
       "       [  -1.60943791],\n",
       "       [  -1.60943791],\n",
       "       [  -1.60943791],\n",
       "       [  -1.60943791],\n",
       "       [  -1.60943791],\n",
       "       [  -1.60943791],\n",
       "       [  -1.60943791],\n",
       "       [  -1.60943791],\n",
       "       [  -1.60943791],\n",
       "       [  -1.60943791],\n",
       "       [  -1.60943791],\n",
       "       [  -1.60943791],\n",
       "       [  -1.60943791],\n",
       "       [  -1.60943791],\n",
       "       [  -1.60943791],\n",
       "       [  -1.60943791],\n",
       "       [  -1.60943791],\n",
       "       [  -1.60943791],\n",
       "       [  -1.60943791],\n",
       "       [  -1.60943791],\n",
       "       [  -1.60943791],\n",
       "       [  -1.60943791],\n",
       "       [  -1.60943791],\n",
       "       [  -1.60943791],\n",
       "       [  -1.60943791],\n",
       "       [  -1.60943791],\n",
       "       [  -1.60943791],\n",
       "       [  -1.60943791],\n",
       "       [  -1.60943791],\n",
       "       [  -1.60943791],\n",
       "       [  -1.60943791],\n",
       "       [  -1.60943791],\n",
       "       [  -1.60943791],\n",
       "       [  -1.60943791],\n",
       "       [-708.39641853]])"
      ]
     },
     "execution_count": 162,
     "metadata": {},
     "output_type": "execute_result"
    }
   ],
   "source": [
    "np.vstack(rewards)"
   ]
  },
  {
   "cell_type": "code",
   "execution_count": null,
   "metadata": {
    "collapsed": true
   },
   "outputs": [],
   "source": []
  }
 ],
 "metadata": {
  "kernelspec": {
   "display_name": "Python 3",
   "language": "python",
   "name": "python3"
  },
  "language_info": {
   "codemirror_mode": {
    "name": "ipython",
    "version": 3
   },
   "file_extension": ".py",
   "mimetype": "text/x-python",
   "name": "python",
   "nbconvert_exporter": "python",
   "pygments_lexer": "ipython3",
   "version": "3.6.1"
  }
 },
 "nbformat": 4,
 "nbformat_minor": 2
}
